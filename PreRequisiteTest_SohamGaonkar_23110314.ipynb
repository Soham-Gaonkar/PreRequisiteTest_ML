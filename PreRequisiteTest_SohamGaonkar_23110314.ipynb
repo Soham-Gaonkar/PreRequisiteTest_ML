{
  "nbformat": 4,
  "nbformat_minor": 0,
  "metadata": {
    "colab": {
      "provenance": [],
      "authorship_tag": "ABX9TyNVWmoliJHX+X0hsz3lpRBi",
      "include_colab_link": true
    },
    "kernelspec": {
      "name": "python3",
      "display_name": "Python 3"
    },
    "language_info": {
      "name": "python"
    }
  },
  "cells": [
    {
      "cell_type": "markdown",
      "metadata": {
        "id": "view-in-github",
        "colab_type": "text"
      },
      "source": [
        "<a href=\"https://colab.research.google.com/github/Soham-Gaonkar/PreRequisiteTest_ML/blob/main/PreRequisiteTest_SohamGaonkar_23110314.ipynb\" target=\"_parent\"><img src=\"https://colab.research.google.com/assets/colab-badge.svg\" alt=\"Open In Colab\"/></a>"
      ]
    },
    {
      "cell_type": "markdown",
      "source": [
        "# Questions"
      ],
      "metadata": {
        "id": "GECrA-8-3hoy"
      }
    },
    {
      "cell_type": "markdown",
      "source": [
        "###1.How many multiplications and additions do you need to perform a matrix multiplication between a (n, k) and (k, m) matrix? Explain."
      ],
      "metadata": {
        "id": "bHGRJ_rg3eNO"
      }
    },
    {
      "cell_type": "markdown",
      "source": [
        "Ans.)Let A be a (n,k) matrix and let B be a (k,m) matrix , where an element in the p th row and q th column of matrix A is given by $a_{pq}$ and similarly for matrix B.<br>\n",
        "So on matrix multiplication (A X B) we get a  resulting matrix C of dimensions (n,m) such that :\n",
        "\n",
        "$$ c_{ij}= \\sum_{x=1}^k a_{ix}b_{xj} $$\n",
        "\n",
        "Since each element of C requires (k-1) addition steps and k multiplication steps.And in total there are n$\\cdot$m elements , hence there are\n",
        "n$\\cdot$m$\\cdot$(k-1) additions , n$\\cdot$m$\\cdot$(k) multiplications"
      ],
      "metadata": {
        "id": "83QWX5dr3qcy"
      }
    },
    {
      "cell_type": "markdown",
      "source": [
        "###2.Write Python code to multiply the above two matrices. Solve using list of lists and then use numpy. Compare the timing of both solutions. Which one is faster? Why?"
      ],
      "metadata": {
        "id": "5CPR6wc_Ky2A"
      }
    },
    {
      "cell_type": "code",
      "source": [
        "import numpy as np\n",
        "import time\n",
        "import matplotlib.pyplot as plt\n",
        "\n",
        "list_times =[]\n",
        "numpy_times =[]\n",
        "order =[]\n",
        "\n",
        "def matmultiply(A, B):\n",
        "    C = np.zeros((A.shape[0], B.shape[1]))\n",
        "    for i in range(len(A)):\n",
        "        for j in range(len(B[0])):\n",
        "            for k in range(len(B)):\n",
        "                C[i][j] += (A[i][k] * B[k][j])\n",
        "    return C\n",
        "\n",
        "def compare(n):\n",
        "  A = np.random.rand(int(10**n), int(10**n))\n",
        "  B = np.random.rand(int(10**n), int(10**n))\n",
        "\n",
        "  start_time = time.time()\n",
        "  result_list = matmultiply(A, B)\n",
        "  end_time = time.time()\n",
        "  list_time = end_time - start_time\n",
        "\n",
        "  np_A = np.array(A)\n",
        "  np_B = np.array(B)\n",
        "\n",
        "\n",
        "  start_time = time.time()\n",
        "  result_numpy = np.dot(np_A, np_B)\n",
        "  end_time = time.time()\n",
        "  numpy_time = end_time - start_time\n",
        "\n",
        "  print(\"Number of multiplication steps: 10 ^\",3*n, \"Time taken using list: \",list_time,\" Time taken using numpy: \",numpy_time)\n",
        "\n",
        "  list_times.append(list_time)\n",
        "  numpy_times.append(numpy_time)\n",
        "\n",
        "compare(0)\n",
        "compare(1)\n",
        "compare(2)"
      ],
      "metadata": {
        "colab": {
          "base_uri": "https://localhost:8080/"
        },
        "id": "YqnYIkmw4Q81",
        "outputId": "1ca5d82a-7653-4600-d9a7-a3590939a0cc"
      },
      "execution_count": 4,
      "outputs": [
        {
          "output_type": "stream",
          "name": "stdout",
          "text": [
            "Number of multiplication steps: 10 ^ 0 Time taken using list:  4.553794860839844e-05  Time taken using numpy:  1.8358230590820312e-05\n",
            "Number of multiplication steps: 10 ^ 3 Time taken using list:  0.0014920234680175781  Time taken using numpy:  0.00010752677917480469\n",
            "Number of multiplication steps: 10 ^ 6 Time taken using list:  0.999525785446167  Time taken using numpy:  0.00028228759765625\n"
          ]
        }
      ]
    },
    {
      "cell_type": "markdown",
      "source": [
        "NumPy uses optimized libraries like BLAS (Basic Linear Algebra Subprograms) that include high-performance implementations of matrix multiplication algorithms, such as Strassen's method."
      ],
      "metadata": {
        "id": "YObQBSNBtzPo"
      }
    },
    {
      "cell_type": "markdown",
      "source": [
        "###3.Finding the highest element in a list requires one pass of the array. Finding the second highest element requires 2 passes of the the array. Using this method, what is the time complexity of finding the median of the array? Can you suggest a better method? Can you implement both these methods in Python and compare against numpy.median routine in terms of time?"
      ],
      "metadata": {
        "id": "PgWSHzLmg05A"
      }
    },
    {
      "cell_type": "markdown",
      "source": [
        "Ans.) Using this method,since we need n/2 passes ,time complexity of finding the median of the array requires O($n^2$) time complexity.(Bubble Sort)<br>\n",
        "We can sort the array using Merge Sort or Quick Sort to obtain median with time complexity O($nlogn$), but this isn't the fastest way to find the median of the array ,<br>\n",
        "Faster method can be using quick select which has an average time complexity of O($n$).\n",
        "\n",
        "numpy.median uses introselect ( variant of quick select)  , and hence has a time complexity of O($n$)."
      ],
      "metadata": {
        "id": "Dl_a5MTbx7sk"
      }
    },
    {
      "cell_type": "code",
      "source": [
        "arr1 = np.random.randint(0, 1000, size=(100))"
      ],
      "metadata": {
        "id": "zmsmcogBDKcg"
      },
      "execution_count": 5,
      "outputs": []
    },
    {
      "cell_type": "code",
      "source": [
        "#Method 1: Bubble Sort\n",
        "\n",
        "import numpy as np\n",
        "import time\n",
        "\n",
        "arr = arr1\n",
        "\n",
        "def bubble_sort():\n",
        "  n = len(arr)\n",
        "  for i in range(n):\n",
        "      for j in range(n - i - 1):\n",
        "          if arr[j] > arr[j + 1]:\n",
        "              arr[j], arr[j + 1] = arr[j + 1], arr[j]\n",
        "\n",
        "\n",
        "  if n%2 == 0:\n",
        "      median = (arr[n//2 - 1] + arr[n//2])/2\n",
        "  else:\n",
        "      median = arr[n//2]\n",
        "\n",
        "  return median\n",
        "\n",
        "arr = arr1\n",
        "\n",
        "start_time = time.time()\n",
        "median = bubble_sort()\n",
        "end_time = time.time()\n",
        "timetaken = end_time - start_time\n",
        "\n",
        "print(\"Median:\",median)\n",
        "print(\"Time taken:\",timetaken)\n"
      ],
      "metadata": {
        "colab": {
          "base_uri": "https://localhost:8080/"
        },
        "id": "3ibDJyaZclX4",
        "outputId": "2d2e2b35-f224-4589-ce1f-7d5bb2d1f688"
      },
      "execution_count": 6,
      "outputs": [
        {
          "output_type": "stream",
          "name": "stdout",
          "text": [
            "Median: 409.5\n",
            "Time taken: 0.005524158477783203\n"
          ]
        }
      ]
    },
    {
      "cell_type": "code",
      "source": [
        "#Method 2 : Quick Select\n",
        "import numpy as np\n",
        "import random\n",
        "import time\n",
        "\n",
        "def partition(arr, low, high):\n",
        "    pivot = arr[high]\n",
        "    i = low\n",
        "    for j in range(low, high):\n",
        "        if arr[j] <= pivot:\n",
        "            arr[i],arr[j] = arr[j],arr[i]\n",
        "            i +=1\n",
        "    arr[i],arr[high] = arr[high],arr[i]\n",
        "    return i\n",
        "\n",
        "def quickselect(arr, low, high, k):\n",
        "    if low == high:\n",
        "        return arr[low]\n",
        "\n",
        "    pivot_index = random.randint(low, high)\n",
        "    arr[pivot_index], arr[high] = arr[high], arr[pivot_index]\n",
        "\n",
        "    index = partition(arr, low, high)\n",
        "\n",
        "    if k == index:\n",
        "        return arr[k]\n",
        "    elif k < index:\n",
        "        return quickselect(arr, low, index-1, k)\n",
        "    else:\n",
        "        return quickselect(arr, index+1, high, k)\n",
        "\n",
        "def median_quickselect(arr):\n",
        "    n = len(arr)\n",
        "    if n % 2 == 1:\n",
        "        return quickselect(arr, 0, n-1, n//2)\n",
        "    else:\n",
        "        leftmid = quickselect(arr, 0, n-1, n//2 - 1)\n",
        "        rightmid = quickselect(arr, 0, n-1, n//2)\n",
        "        return (leftmid + rightmid)/2\n",
        "\n",
        "start_time = time.time()\n",
        "median = median_quickselect(arr.copy())\n",
        "end_time = time.time()\n",
        "timetaken = end_time - start_time\n",
        "\n",
        "print(\"Median:\", median)\n",
        "print(\"Time taken:\", timetaken)\n"
      ],
      "metadata": {
        "colab": {
          "base_uri": "https://localhost:8080/"
        },
        "id": "riDNC5cSzcfB",
        "outputId": "67f3d870-a409-4bfe-bc3c-4c81e9d0977f"
      },
      "execution_count": 7,
      "outputs": [
        {
          "output_type": "stream",
          "name": "stdout",
          "text": [
            "Median: 409.5\n",
            "Time taken: 0.0007841587066650391\n"
          ]
        }
      ]
    },
    {
      "cell_type": "code",
      "source": [
        "# Using numpy.median\n",
        "import numpy as np\n",
        "\n",
        "arr = arr1\n",
        "\n",
        "# print(\"Array:\",arr)\n",
        "\n",
        "start_time = time.time()\n",
        "median = (np.median(arr))\n",
        "end_time = time.time()\n",
        "time_taken = end_time - start_time\n",
        "\n",
        "print(\"Median:\",median)\n",
        "print(\"Time taken:\",timetaken)"
      ],
      "metadata": {
        "colab": {
          "base_uri": "https://localhost:8080/"
        },
        "id": "yNodyc9MBZ2-",
        "outputId": "6d9de4cf-c22e-4055-ce80-dfa488b76e8a"
      },
      "execution_count": 8,
      "outputs": [
        {
          "output_type": "stream",
          "name": "stdout",
          "text": [
            "Median: 409.5\n",
            "Time taken: 0.0007841587066650391\n"
          ]
        }
      ]
    },
    {
      "cell_type": "markdown",
      "source": [
        "##4. What is the gradient of the following function with respect to x and y? $x^2y + y^3 sin(x)$\n"
      ],
      "metadata": {
        "id": "ofzXT05WN_8E"
      }
    },
    {
      "cell_type": "markdown",
      "source": [
        "$ f(x,y) = x^2y + y^3 sin(x)$ ,then\n",
        "\n",
        "$$\n",
        "\\frac{\\partial f}{\\partial x} = \\frac{\\partial (x^2 y + y^3 \\sin(x))}{\\partial x}\n",
        "$$\n",
        "$$\n",
        "\\begin{aligned}\n",
        "&= \\frac{\\partial (x^2 y)}{\\partial x} + \\frac{\\partial (y^3 \\sin(x))}{\\partial x} \\\\\n",
        "&= 2xy + y^3 \\cos(x)\n",
        "\\end{aligned}\n",
        "$$\n",
        "<br><br>\n",
        "$$\n",
        "\\frac{\\partial f}{\\partial y} = \\frac{\\partial (x^2 y + y^3 \\sin(x))}{\\partial y}\n",
        "$$\n",
        "$$\n",
        "\\begin{aligned}\n",
        "&= \\frac{\\partial (x^2 y)}{\\partial y} + \\frac{\\partial (y^3 \\sin(x))}{\\partial y} \\\\\n",
        "&= x^2 + 3y^2 \\sin(x)\n",
        "\\end{aligned}\n",
        "$$"
      ],
      "metadata": {
        "id": "uf5QPevGOI37"
      }
    },
    {
      "cell_type": "markdown",
      "source": [
        "##5. Use JAX to confirm the gradient evaluated by your method matches the analytical solution corresponding to a few random values of x and y"
      ],
      "metadata": {
        "id": "O0WeYXvwRAdY"
      }
    },
    {
      "cell_type": "code",
      "source": [
        "import jax\n",
        "import numpy as np\n",
        "import jax.numpy as jnp\n",
        "\n",
        "def f(x, y):\n",
        "    return (x**2)*y + (y**3)*jnp.sin(x)\n",
        "\n",
        "df_dx = jax.grad(f, argnums=0) # gradient wrt x\n",
        "df_dy = jax.grad(f, argnums=1) # gradient wrt y\n",
        "\n",
        "x = 5.0\n",
        "y = 2.0\n",
        "\n",
        "df_dx_val = df_dx(x, y)\n",
        "df_dy_val = df_dy(x, y)\n",
        "\n",
        "print(f\"At (x, y) = ({x}, {y})\")\n",
        "\n",
        "print(\"Analytical :\")\n",
        "df_dx = (2*x*y) + (y**3*np.cos(x))\n",
        "df_dy = (x**2) + (2*(y**2)*np.sin(x))\n",
        "print(f\"df/dx = {df_dx_val}\")\n",
        "print(f\"df/dy = {df_dy_val}\")\n",
        "\n",
        "print(\"Using JAX:\")\n",
        "print(f\"df/dx = {df_dx_val}\")\n",
        "print(f\"df/dy = {df_dy_val}\")\n"
      ],
      "metadata": {
        "colab": {
          "base_uri": "https://localhost:8080/"
        },
        "id": "s9M1MMGjBm7R",
        "outputId": "ffa75c49-28d9-4ddb-c6b5-a2f0e514ea77"
      },
      "execution_count": 9,
      "outputs": [
        {
          "output_type": "stream",
          "name": "stdout",
          "text": [
            "At (x, y) = (5.0, 2.0)\n",
            "Analytical :\n",
            "df/dx = 22.269298553466797\n",
            "df/dy = 13.492908477783203\n",
            "Using JAX:\n",
            "df/dx = 22.269298553466797\n",
            "df/dy = 13.492908477783203\n"
          ]
        }
      ]
    },
    {
      "cell_type": "markdown",
      "source": [
        "##6. Use sympy to confirm that you obtain the same gradient analytically."
      ],
      "metadata": {
        "id": "Qsxe-0x4Psha"
      }
    },
    {
      "cell_type": "code",
      "source": [
        "import sympy as sp\n",
        "\n",
        "x, y = sp.symbols('x y')\n",
        "f = (x**2)*y + (y**3)*sp.sin(x) # defining function\n",
        "\n",
        "df_dx = sp.diff(f, x) # calculates analytical fn - partial differentiation\n",
        "df_dy = sp.diff(f, y)\n",
        "\n",
        "print(\"df/dx:\",df_dx)\n",
        "print(\"df/dy:\", df_dy)\n",
        "\n",
        "x_val = 1.0\n",
        "y_val = 2.0\n",
        "\n",
        "df_dx_val = df_dx.evalf(subs={x: x_val, y: y_val}) # substitutes value\n",
        "df_dy_val = df_dy.evalf(subs={x: x_val, y: y_val})\n",
        "\n",
        "print(f\"At (x, y) = ({x_val}, {y_val})\")\n",
        "print(\"df/dx =\", df_dx_val)\n",
        "print(\"df/dy = \",df_dy_val)"
      ],
      "metadata": {
        "colab": {
          "base_uri": "https://localhost:8080/"
        },
        "id": "OTs27KnOPwtD",
        "outputId": "88318797-f8f5-49bc-af4b-e45659c1e6b5"
      },
      "execution_count": 10,
      "outputs": [
        {
          "output_type": "stream",
          "name": "stdout",
          "text": [
            "df/dx: 2*x*y + y**3*cos(x)\n",
            "df/dy: x**2 + 3*y**2*sin(x)\n",
            "At (x, y) = (1.0, 2.0)\n",
            "df/dx = 8.32241844694512\n",
            "df/dy =  11.0976518176948\n"
          ]
        }
      ]
    },
    {
      "cell_type": "markdown",
      "source": [
        "##7. Create a Python nested dictionary to represent hierarchical information. We want to store record of students and their marks. Something like:\n",
        "![image.png](data:image/png;base64,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)"
      ],
      "metadata": {
        "id": "EJyo9AEUSAbM"
      }
    },
    {
      "cell_type": "code",
      "source": [
        "\n",
        "\n",
        "student_info = {\n",
        "    2022: {\n",
        "        \"CSE\": [\n",
        "            {\"Roll Number\": 1, \"Name\": \"A\", \"Marks\": {\"Maths\": 100, \"English\": 70, \"Science\": 90}},\n",
        "            {\"Roll Number\": 2, \"Name\": \"B\", \"Marks\": {\"Maths\": 90, \"English\": 80, \"Science\": 90}},\n",
        "            {\"Roll Number\": 3, \"Name\": \"C\", \"Marks\": {\"Maths\": 100, \"English\": 90, \"Science\": 90}}\n",
        "        ],\n",
        "        \"EE\": [\n",
        "            {\"Roll Number\": 4, \"Name\": \"D\", \"Marks\": {\"Maths\": 100, \"English\": 70, \"Science\": 90}},\n",
        "            {\"Roll Number\": 5, \"Name\": \"E\", \"Marks\": {\"Maths\": 90, \"English\": 80, \"Science\": 90}}\n",
        "        ]\n",
        "    },\n",
        "    2023: {\n",
        "        \"CSE\": [\n",
        "            {\"Roll Number\": 1, \"Name\": \"A\", \"Marks\": {\"Maths\": 100, \"English\": 70, \"Science\": 90}},\n",
        "            {\"Roll Number\": 2, \"Name\": \"B\", \"Marks\": {\"Maths\": 90, \"English\": 80, \"Science\": 90}},\n",
        "            {\"Roll Number\": 3, \"Name\": \"C\", \"Marks\": {\"Maths\": 100, \"English\": 90, \"Science\": 90}}\n",
        "        ],\n",
        "        \"EE\": [\n",
        "            {\"Roll Number\": 4, \"Name\": \"D\", \"Marks\": {\"Maths\": 100, \"English\": 70, \"Science\": 90}},\n",
        "            {\"Roll Number\": 5, \"Name\": \"E\", \"Marks\": {\"Maths\": 90, \"English\": 80, \"Science\": 90}}\n",
        "        ]\n",
        "    }\n",
        "}\n"
      ],
      "metadata": {
        "id": "oRDMuuwMRcDC"
      },
      "execution_count": 11,
      "outputs": []
    },
    {
      "cell_type": "markdown",
      "source": [
        "##8. Store the same information using Python classes. We have an overall database which is a list of year objects. Each year contains a list of branches. Each branch contains a list of students. Each student has some properties like name, roll number and has marks in some subjects."
      ],
      "metadata": {
        "id": "rDkfWstkXzav"
      }
    },
    {
      "cell_type": "code",
      "source": [
        "# i am using __repr__ method  to provide a string representation for each class\n",
        "\n",
        "class Marks:\n",
        "\n",
        "    def __init__(self, maths, english, science):\n",
        "        self.maths = maths\n",
        "        self.english = english\n",
        "        self.science = science\n",
        "\n",
        "    def __repr__(self):\n",
        "        return f\"Maths: {self.maths}, English: {self.english}, Science: {self.science}\"\n",
        "\n",
        "class Student:\n",
        "\n",
        "    def __init__(self, roll_number, name, marks):\n",
        "        self.roll_number = roll_number\n",
        "        self.name = name\n",
        "        self.marks = marks\n",
        "\n",
        "    def __repr__(self):\n",
        "        return f\"Roll Number: {self.roll_number}, Name: {self.name}, Marks: [{self.marks}]\"\n",
        "\n",
        "\n",
        "class Branch:\n",
        "\n",
        "    def __init__(self, name):\n",
        "        self.name = name\n",
        "        self.students = [] # list of  students\n",
        "\n",
        "    def add_student(self, student):\n",
        "        self.students.append(student) # add a student in a branch\n",
        "\n",
        "    def __repr__(self):\n",
        "        return f\"Branch: {self.name}, Students: {self.students}\"\n",
        "\n",
        "\n",
        "class Year:\n",
        "\n",
        "    def __init__(self, year):\n",
        "        self.year = year\n",
        "        self.branches = [] # list of  branches\n",
        "\n",
        "    def add_branch(self, branch):\n",
        "        self.branches.append(branch) # add a branch to a year\n",
        "\n",
        "    def __repr__(self):\n",
        "        return f\"Year: {self.year}, Branches: {self.branches}\"\n",
        "\n",
        "\n",
        "class Database:\n",
        "\n",
        "    def __init__(self):\n",
        "        self.years = [] # list of years\n",
        "\n",
        "    def add_year(self, year):\n",
        "        self.years.append(year) # add year to the databse\n",
        "\n",
        "    def __repr__(self):\n",
        "        return f\"Database: {self.years}\"\n"
      ],
      "metadata": {
        "id": "LZJQMI3iWgn_"
      },
      "execution_count": 12,
      "outputs": []
    },
    {
      "cell_type": "code",
      "source": [
        "database = Database()\n",
        "\n",
        "\n",
        "year_2022 = Year(2022)\n",
        "\n",
        "cse_2022 = Branch(\"CSE\")\n",
        "cse_2022.add_student(Student(1, \"A\", Marks(100, 70, 90)))\n",
        "cse_2022.add_student(Student(2, \"B\", Marks(90, 80, 90)))\n",
        "cse_2022.add_student(Student(3, \"C\", Marks(100, 90, 90)))\n",
        "\n",
        "ee_2022 = Branch(\"EE\")\n",
        "ee_2022.add_student(Student(4, \"D\", Marks(100, 70, 90)))\n",
        "ee_2022.add_student(Student(5, \"E\", Marks(90, 80, 90)))\n",
        "\n",
        "year_2022.add_branch(cse_2022)\n",
        "year_2022.add_branch(ee_2022)\n",
        "\n",
        "database.add_year(year_2022)\n",
        "\n",
        "\n",
        "\n",
        "\n",
        "year_2023 = Year(2023)\n",
        "\n",
        "cse_2023 = Branch(\"CSE\")\n",
        "cse_2023.add_student(Student(1, \"A\", Marks(100, 70, 90)))\n",
        "cse_2023.add_student(Student(2, \"B\", Marks(90, 80, 90)))\n",
        "cse_2023.add_student(Student(3, \"C\", Marks(100, 90, 90)))\n",
        "\n",
        "ee_2023 = Branch(\"EE\")\n",
        "ee_2023.add_student(Student(4, \"D\", Marks(100, 70, 90)))\n",
        "ee_2023.add_student(Student(5, \"E\", Marks(90, 80, 90)))\n",
        "\n",
        "year_2023.add_branch(cse_2023)\n",
        "year_2023.add_branch(ee_2023)\n",
        "\n",
        "database.add_year(year_2023)\n",
        "\n",
        "\n",
        "\n",
        "print(database)\n"
      ],
      "metadata": {
        "colab": {
          "base_uri": "https://localhost:8080/"
        },
        "id": "oQRjuDGtb4Jw",
        "outputId": "7095e984-9bb2-479f-bb61-17f3ba6bf088"
      },
      "execution_count": 13,
      "outputs": [
        {
          "output_type": "stream",
          "name": "stdout",
          "text": [
            "Database: [Year: 2022, Branches: [Branch: CSE, Students: [Roll Number: 1, Name: A, Marks: [Maths: 100, English: 70, Science: 90], Roll Number: 2, Name: B, Marks: [Maths: 90, English: 80, Science: 90], Roll Number: 3, Name: C, Marks: [Maths: 100, English: 90, Science: 90]], Branch: EE, Students: [Roll Number: 4, Name: D, Marks: [Maths: 100, English: 70, Science: 90], Roll Number: 5, Name: E, Marks: [Maths: 90, English: 80, Science: 90]]], Year: 2023, Branches: [Branch: CSE, Students: [Roll Number: 1, Name: A, Marks: [Maths: 100, English: 70, Science: 90], Roll Number: 2, Name: B, Marks: [Maths: 90, English: 80, Science: 90], Roll Number: 3, Name: C, Marks: [Maths: 100, English: 90, Science: 90]], Branch: EE, Students: [Roll Number: 4, Name: D, Marks: [Maths: 100, English: 70, Science: 90], Roll Number: 5, Name: E, Marks: [Maths: 90, English: 80, Science: 90]]]]\n"
          ]
        }
      ]
    },
    {
      "cell_type": "markdown",
      "source": [
        "##9. Using matplotlib plot the following functions on the domain: x = 0.5 to 100.0 in steps of 0.5.\n",
        "![image.png](data:image/png;base64,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)"
      ],
      "metadata": {
        "id": "T81vsGW-c9hu"
      }
    },
    {
      "cell_type": "code",
      "source": [
        "import numpy as np\n",
        "import matplotlib.pyplot as plt\n",
        "\n",
        "x = np.arange(0.5, 100.1, 0.5)\n",
        "\n",
        "# functions to be plotted\n",
        "y1 = x\n",
        "y2 = x**2\n",
        "y3 = x**3/100\n",
        "y4 = np.sin(x)\n",
        "y5 = np.sin(x)/x\n",
        "y6 = np.log(x)\n",
        "y7 = np.exp(x)\n",
        "y8 = x**2/2\n",
        "\n",
        "plt.figure(figsize=(14, 10))\n",
        "\n",
        "plt.title('Plot of the given functions')\n",
        "\n",
        "plt.subplot(3,3,1)\n",
        "plt.plot(x, y1, label='$y = x$')\n",
        "plt.legend()\n",
        "plt.xlabel('x')\n",
        "plt.ylabel('y')\n",
        "\n",
        "plt.subplot(3,3,2)\n",
        "plt.plot(x, y2, label='$y = x^2$')\n",
        "plt.legend()\n",
        "plt.xlabel('x')\n",
        "plt.ylabel('y')\n",
        "\n",
        "\n",
        "plt.subplot(3,3,3)\n",
        "plt.plot(x, y3, label='$y = \\\\frac{x^3}{100}$')\n",
        "plt.legend()\n",
        "plt.xlabel('x')\n",
        "plt.ylabel('y')\n",
        "\n",
        "\n",
        "plt.subplot(3,3,4)\n",
        "plt.plot(x, y4, label='$y = \\sin(x)$')\n",
        "plt.legend()\n",
        "plt.xlabel('x')\n",
        "plt.ylabel('y')\n",
        "\n",
        "plt.subplot(3,3,5)\n",
        "plt.plot(x, y5, label='$y = \\\\frac{\\sin(x)}{x}$')\n",
        "plt.legend()\n",
        "plt.xlabel('x')\n",
        "plt.ylabel('y')\n",
        "\n",
        "\n",
        "plt.subplot(3,3,6)\n",
        "plt.plot(x, y6, label='$y = \\log(x)$')\n",
        "plt.legend()\n",
        "plt.xlabel('x')\n",
        "plt.ylabel('y')\n",
        "\n",
        "plt.subplot(3,3,7)\n",
        "plt.plot(x, y7, label='$y = e^x$')\n",
        "plt.legend()\n",
        "plt.xlabel('x')\n",
        "plt.ylabel('y')\n",
        "\n",
        "\n",
        "plt.subplot(3,3,8)\n",
        "plt.plot(x, y8, label='$y = \\\\frac{x^2}{2}$')\n",
        "plt.legend()\n",
        "plt.xlabel('x')\n",
        "plt.ylabel('y')\n",
        "\n",
        "\n",
        "plt.show()\n"
      ],
      "metadata": {
        "colab": {
          "base_uri": "https://localhost:8080/",
          "height": 905
        },
        "id": "MdDur7i7cvQ2",
        "outputId": "f58b3a8a-6bd6-481a-90ec-5514c6b66567"
      },
      "execution_count": 14,
      "outputs": [
        {
          "output_type": "stream",
          "name": "stderr",
          "text": [
            "<ipython-input-14-d31e097fb800>:20: MatplotlibDeprecationWarning: Auto-removal of overlapping axes is deprecated since 3.6 and will be removed two minor releases later; explicitly call ax.remove() as needed.\n",
            "  plt.subplot(3,3,1)\n"
          ]
        },
        {
          "output_type": "display_data",
          "data": {
            "text/plain": [
              "<Figure size 1400x1000 with 8 Axes>"
            ],
            "image/png": "[encoded data removed]"
          },
          "metadata": {}
        }
      ]
    },
    {
      "cell_type": "markdown",
      "source": [
        "##10. Using numpy generate a matrix of size 20X5 containing random numbers drawn uniformly from the range of 1 to 2. Using Pandas create a dataframe out of this matrix. Name the columns of the dataframe as “a”, “b”, “c”, “d”, “e”. Find the column with the highest standard deviation. Find the row with the lowest mean."
      ],
      "metadata": {
        "id": "U5MURXC_mFq6"
      }
    },
    {
      "cell_type": "code",
      "source": [
        "import numpy as np\n",
        "import pandas as pd\n",
        "\n",
        "matrix = np.random.uniform(low=1,high =2 ,size=(20,5)) # generates matrix\n",
        "# print(matrix)\n",
        "\n",
        "df = pd.DataFrame(matrix,columns=['a','b','c','d','e']) # converted to df\n",
        "display(df)\n",
        "\n",
        "col = df.std().idxmax() # finds highest std column\n",
        "row = df.mean(axis=1).idxmin() # finds lowest mean row\n",
        "\n",
        "print('column:',col,'row:',row)"
      ],
      "metadata": {
        "colab": {
          "base_uri": "https://localhost:8080/",
          "height": 694
        },
        "id": "TiVu4cJ4ljwk",
        "outputId": "54b56d96-7ef7-4864-ebfa-c32465c1ff49"
      },
      "execution_count": 15,
      "outputs": [
        {
          "output_type": "display_data",
          "data": {
            "text/plain": [
              "           a         b         c         d         e\n",
              "0   1.653490  1.263214  1.697296  1.804700  1.704739\n",
              "1   1.995765  1.839372  1.849605  1.696789  1.337857\n",
              "2   1.147390  1.576149  1.137984  1.184907  1.678096\n",
              "3   1.517387  1.605698  1.120560  1.340047  1.938653\n",
              "4   1.555767  1.907308  1.369758  1.172962  1.322111\n",
              "5   1.075619  1.647337  1.279554  1.703344  1.935385\n",
              "6   1.904245  1.230064  1.810314  1.965844  1.940465\n",
              "7   1.453736  1.972173  1.575298  1.264643  1.113749\n",
              "8   1.007981  1.472783  1.431451  1.774498  1.522312\n",
              "9   1.921364  1.554702  1.969595  1.121949  1.049974\n",
              "10  1.587286  1.933310  1.658922  1.137399  1.001102\n",
              "11  1.779832  1.017581  1.864838  1.751922  1.578451\n",
              "12  1.335751  1.705262  1.168212  1.787565  1.136041\n",
              "13  1.709049  1.585808  1.626218  1.621854  1.249133\n",
              "14  1.972688  1.005903  1.940768  1.015247  1.401618\n",
              "15  1.625694  1.826773  1.131554  1.013539  1.008473\n",
              "16  1.190690  1.417567  1.282165  1.279789  1.743808\n",
              "17  1.115854  1.499000  1.139982  1.443099  1.848766\n",
              "18  1.753472  1.676280  1.416049  1.448476  1.065567\n",
              "19  1.993272  1.346983  1.466369  1.985081  1.864930"
            ],
            "text/html": [
              "\n",
              "  <div id=\"df-e9005dde-a215-4940-ba31-cecf6c48292b\" class=\"colab-df-container\">\n",
              "    <div>\n",
              "<style scoped>\n",
              "    .dataframe tbody tr th:only-of-type {\n",
              "        vertical-align: middle;\n",
              "    }\n",
              "\n",
              "    .dataframe tbody tr th {\n",
              "        vertical-align: top;\n",
              "    }\n",
              "\n",
              "    .dataframe thead th {\n",
              "        text-align: right;\n",
              "    }\n",
              "</style>\n",
              "<table border=\"1\" class=\"dataframe\">\n",
              "  <thead>\n",
              "    <tr style=\"text-align: right;\">\n",
              "      <th></th>\n",
              "      <th>a</th>\n",
              "      <th>b</th>\n",
              "      <th>c</th>\n",
              "      <th>d</th>\n",
              "      <th>e</th>\n",
              "    </tr>\n",
              "  </thead>\n",
              "  <tbody>\n",
              "    <tr>\n",
              "      <th>0</th>\n",
              "      <td>1.653490</td>\n",
              "      <td>1.263214</td>\n",
              "      <td>1.697296</td>\n",
              "      <td>1.804700</td>\n",
              "      <td>1.704739</td>\n",
              "    </tr>\n",
              "    <tr>\n",
              "      <th>1</th>\n",
              "      <td>1.995765</td>\n",
              "      <td>1.839372</td>\n",
              "      <td>1.849605</td>\n",
              "      <td>1.696789</td>\n",
              "      <td>1.337857</td>\n",
              "    </tr>\n",
              "    <tr>\n",
              "      <th>2</th>\n",
              "      <td>1.147390</td>\n",
              "      <td>1.576149</td>\n",
              "      <td>1.137984</td>\n",
              "      <td>1.184907</td>\n",
              "      <td>1.678096</td>\n",
              "    </tr>\n",
              "    <tr>\n",
              "      <th>3</th>\n",
              "      <td>1.517387</td>\n",
              "      <td>1.605698</td>\n",
              "      <td>1.120560</td>\n",
              "      <td>1.340047</td>\n",
              "      <td>1.938653</td>\n",
              "    </tr>\n",
              "    <tr>\n",
              "      <th>4</th>\n",
              "      <td>1.555767</td>\n",
              "      <td>1.907308</td>\n",
              "      <td>1.369758</td>\n",
              "      <td>1.172962</td>\n",
              "      <td>1.322111</td>\n",
              "    </tr>\n",
              "    <tr>\n",
              "      <th>5</th>\n",
              "      <td>1.075619</td>\n",
              "      <td>1.647337</td>\n",
              "      <td>1.279554</td>\n",
              "      <td>1.703344</td>\n",
              "      <td>1.935385</td>\n",
              "    </tr>\n",
              "    <tr>\n",
              "      <th>6</th>\n",
              "      <td>1.904245</td>\n",
              "      <td>1.230064</td>\n",
              "      <td>1.810314</td>\n",
              "      <td>1.965844</td>\n",
              "      <td>1.940465</td>\n",
              "    </tr>\n",
              "    <tr>\n",
              "      <th>7</th>\n",
              "      <td>1.453736</td>\n",
              "      <td>1.972173</td>\n",
              "      <td>1.575298</td>\n",
              "      <td>1.264643</td>\n",
              "      <td>1.113749</td>\n",
              "    </tr>\n",
              "    <tr>\n",
              "      <th>8</th>\n",
              "      <td>1.007981</td>\n",
              "      <td>1.472783</td>\n",
              "      <td>1.431451</td>\n",
              "      <td>1.774498</td>\n",
              "      <td>1.522312</td>\n",
              "    </tr>\n",
              "    <tr>\n",
              "      <th>9</th>\n",
              "      <td>1.921364</td>\n",
              "      <td>1.554702</td>\n",
              "      <td>1.969595</td>\n",
              "      <td>1.121949</td>\n",
              "      <td>1.049974</td>\n",
              "    </tr>\n",
              "    <tr>\n",
              "      <th>10</th>\n",
              "      <td>1.587286</td>\n",
              "      <td>1.933310</td>\n",
              "      <td>1.658922</td>\n",
              "      <td>1.137399</td>\n",
              "      <td>1.001102</td>\n",
              "    </tr>\n",
              "    <tr>\n",
              "      <th>11</th>\n",
              "      <td>1.779832</td>\n",
              "      <td>1.017581</td>\n",
              "      <td>1.864838</td>\n",
              "      <td>1.751922</td>\n",
              "      <td>1.578451</td>\n",
              "    </tr>\n",
              "    <tr>\n",
              "      <th>12</th>\n",
              "      <td>1.335751</td>\n",
              "      <td>1.705262</td>\n",
              "      <td>1.168212</td>\n",
              "      <td>1.787565</td>\n",
              "      <td>1.136041</td>\n",
              "    </tr>\n",
              "    <tr>\n",
              "      <th>13</th>\n",
              "      <td>1.709049</td>\n",
              "      <td>1.585808</td>\n",
              "      <td>1.626218</td>\n",
              "      <td>1.621854</td>\n",
              "      <td>1.249133</td>\n",
              "    </tr>\n",
              "    <tr>\n",
              "      <th>14</th>\n",
              "      <td>1.972688</td>\n",
              "      <td>1.005903</td>\n",
              "      <td>1.940768</td>\n",
              "      <td>1.015247</td>\n",
              "      <td>1.401618</td>\n",
              "    </tr>\n",
              "    <tr>\n",
              "      <th>15</th>\n",
              "      <td>1.625694</td>\n",
              "      <td>1.826773</td>\n",
              "      <td>1.131554</td>\n",
              "      <td>1.013539</td>\n",
              "      <td>1.008473</td>\n",
              "    </tr>\n",
              "    <tr>\n",
              "      <th>16</th>\n",
              "      <td>1.190690</td>\n",
              "      <td>1.417567</td>\n",
              "      <td>1.282165</td>\n",
              "      <td>1.279789</td>\n",
              "      <td>1.743808</td>\n",
              "    </tr>\n",
              "    <tr>\n",
              "      <th>17</th>\n",
              "      <td>1.115854</td>\n",
              "      <td>1.499000</td>\n",
              "      <td>1.139982</td>\n",
              "      <td>1.443099</td>\n",
              "      <td>1.848766</td>\n",
              "    </tr>\n",
              "    <tr>\n",
              "      <th>18</th>\n",
              "      <td>1.753472</td>\n",
              "      <td>1.676280</td>\n",
              "      <td>1.416049</td>\n",
              "      <td>1.448476</td>\n",
              "      <td>1.065567</td>\n",
              "    </tr>\n",
              "    <tr>\n",
              "      <th>19</th>\n",
              "      <td>1.993272</td>\n",
              "      <td>1.346983</td>\n",
              "      <td>1.466369</td>\n",
              "      <td>1.985081</td>\n",
              "      <td>1.864930</td>\n",
              "    </tr>\n",
              "  </tbody>\n",
              "</table>\n",
              "</div>\n",
              "    <div class=\"colab-df-buttons\">\n",
              "\n",
              "  <div class=\"colab-df-container\">\n",
              "    <button class=\"colab-df-convert\" onclick=\"convertToInteractive('df-e9005dde-a215-4940-ba31-cecf6c48292b')\"\n",
              "            title=\"Convert this dataframe to an interactive table.\"\n",
              "            style=\"display:none;\">\n",
              "\n",
              "  <svg xmlns=\"http://www.w3.org/2000/svg\" height=\"24px\" viewBox=\"0 -960 960 960\">\n",
              "    <path d=\"M120-120v-720h720v720H120Zm60-500h600v-160H180v160Zm220 220h160v-160H400v160Zm0 220h160v-160H400v160ZM180-400h160v-160H180v160Zm440 0h160v-160H620v160ZM180-180h160v-160H180v160Zm440 0h160v-160H620v160Z\"/>\n",
              "  </svg>\n",
              "    </button>\n",
              "\n",
              "  <style>\n",
              "    .colab-df-container {\n",
              "      display:flex;\n",
              "      gap: 12px;\n",
              "    }\n",
              "\n",
              "    .colab-df-convert {\n",
              "      background-color: #E8F0FE;\n",
              "      border: none;\n",
              "      border-radius: 50%;\n",
              "      cursor: pointer;\n",
              "      display: none;\n",
              "      fill: #1967D2;\n",
              "      height: 32px;\n",
              "      padding: 0 0 0 0;\n",
              "      width: 32px;\n",
              "    }\n",
              "\n",
              "    .colab-df-convert:hover {\n",
              "      background-color: #E2EBFA;\n",
              "      box-shadow: 0px 1px 2px rgba(60, 64, 67, 0.3), 0px 1px 3px 1px rgba(60, 64, 67, 0.15);\n",
              "      fill: #174EA6;\n",
              "    }\n",
              "\n",
              "    .colab-df-buttons div {\n",
              "      margin-bottom: 4px;\n",
              "    }\n",
              "\n",
              "    [theme=dark] .colab-df-convert {\n",
              "      background-color: #3B4455;\n",
              "      fill: #D2E3FC;\n",
              "    }\n",
              "\n",
              "    [theme=dark] .colab-df-convert:hover {\n",
              "      background-color: #434B5C;\n",
              "      box-shadow: 0px 1px 3px 1px rgba(0, 0, 0, 0.15);\n",
              "      filter: drop-shadow(0px 1px 2px rgba(0, 0, 0, 0.3));\n",
              "      fill: #FFFFFF;\n",
              "    }\n",
              "  </style>\n",
              "\n",
              "    <script>\n",
              "      const buttonEl =\n",
              "        document.querySelector('#df-e9005dde-a215-4940-ba31-cecf6c48292b button.colab-df-convert');\n",
              "      buttonEl.style.display =\n",
              "        google.colab.kernel.accessAllowed ? 'block' : 'none';\n",
              "\n",
              "      async function convertToInteractive(key) {\n",
              "        const element = document.querySelector('#df-e9005dde-a215-4940-ba31-cecf6c48292b');\n",
              "        const dataTable =\n",
              "          await google.colab.kernel.invokeFunction('convertToInteractive',\n",
              "                                                    [key], {});\n",
              "        if (!dataTable) return;\n",
              "\n",
              "        const docLinkHtml = 'Like what you see? Visit the ' +\n",
              "          '<a target=\"_blank\" href=https://colab.research.google.com/notebooks/data_table.ipynb>data table notebook</a>'\n",
              "          + ' to learn more about interactive tables.';\n",
              "        element.innerHTML = '';\n",
              "        dataTable['output_type'] = 'display_data';\n",
              "        await google.colab.output.renderOutput(dataTable, element);\n",
              "        const docLink = document.createElement('div');\n",
              "        docLink.innerHTML = docLinkHtml;\n",
              "        element.appendChild(docLink);\n",
              "      }\n",
              "    </script>\n",
              "  </div>\n",
              "\n",
              "\n",
              "<div id=\"df-211d87e9-5cdc-4f27-9e6b-7c4cf258bb96\">\n",
              "  <button class=\"colab-df-quickchart\" onclick=\"quickchart('df-211d87e9-5cdc-4f27-9e6b-7c4cf258bb96')\"\n",
              "            title=\"Suggest charts\"\n",
              "            style=\"display:none;\">\n",
              "\n",
              "<svg xmlns=\"http://www.w3.org/2000/svg\" height=\"24px\"viewBox=\"0 0 24 24\"\n",
              "     width=\"24px\">\n",
              "    <g>\n",
              "        <path d=\"M19 3H5c-1.1 0-2 .9-2 2v14c0 1.1.9 2 2 2h14c1.1 0 2-.9 2-2V5c0-1.1-.9-2-2-2zM9 17H7v-7h2v7zm4 0h-2V7h2v10zm4 0h-2v-4h2v4z\"/>\n",
              "    </g>\n",
              "</svg>\n",
              "  </button>\n",
              "\n",
              "<style>\n",
              "  .colab-df-quickchart {\n",
              "      --bg-color: #E8F0FE;\n",
              "      --fill-color: #1967D2;\n",
              "      --hover-bg-color: #E2EBFA;\n",
              "      --hover-fill-color: #174EA6;\n",
              "      --disabled-fill-color: #AAA;\n",
              "      --disabled-bg-color: #DDD;\n",
              "  }\n",
              "\n",
              "  [theme=dark] .colab-df-quickchart {\n",
              "      --bg-color: #3B4455;\n",
              "      --fill-color: #D2E3FC;\n",
              "      --hover-bg-color: #434B5C;\n",
              "      --hover-fill-color: #FFFFFF;\n",
              "      --disabled-bg-color: #3B4455;\n",
              "      --disabled-fill-color: #666;\n",
              "  }\n",
              "\n",
              "  .colab-df-quickchart {\n",
              "    background-color: var(--bg-color);\n",
              "    border: none;\n",
              "    border-radius: 50%;\n",
              "    cursor: pointer;\n",
              "    display: none;\n",
              "    fill: var(--fill-color);\n",
              "    height: 32px;\n",
              "    padding: 0;\n",
              "    width: 32px;\n",
              "  }\n",
              "\n",
              "  .colab-df-quickchart:hover {\n",
              "    background-color: var(--hover-bg-color);\n",
              "    box-shadow: 0 1px 2px rgba(60, 64, 67, 0.3), 0 1px 3px 1px rgba(60, 64, 67, 0.15);\n",
              "    fill: var(--button-hover-fill-color);\n",
              "  }\n",
              "\n",
              "  .colab-df-quickchart-complete:disabled,\n",
              "  .colab-df-quickchart-complete:disabled:hover {\n",
              "    background-color: var(--disabled-bg-color);\n",
              "    fill: var(--disabled-fill-color);\n",
              "    box-shadow: none;\n",
              "  }\n",
              "\n",
              "  .colab-df-spinner {\n",
              "    border: 2px solid var(--fill-color);\n",
              "    border-color: transparent;\n",
              "    border-bottom-color: var(--fill-color);\n",
              "    animation:\n",
              "      spin 1s steps(1) infinite;\n",
              "  }\n",
              "\n",
              "  @keyframes spin {\n",
              "    0% {\n",
              "      border-color: transparent;\n",
              "      border-bottom-color: var(--fill-color);\n",
              "      border-left-color: var(--fill-color);\n",
              "    }\n",
              "    20% {\n",
              "      border-color: transparent;\n",
              "      border-left-color: var(--fill-color);\n",
              "      border-top-color: var(--fill-color);\n",
              "    }\n",
              "    30% {\n",
              "      border-color: transparent;\n",
              "      border-left-color: var(--fill-color);\n",
              "      border-top-color: var(--fill-color);\n",
              "      border-right-color: var(--fill-color);\n",
              "    }\n",
              "    40% {\n",
              "      border-color: transparent;\n",
              "      border-right-color: var(--fill-color);\n",
              "      border-top-color: var(--fill-color);\n",
              "    }\n",
              "    60% {\n",
              "      border-color: transparent;\n",
              "      border-right-color: var(--fill-color);\n",
              "    }\n",
              "    80% {\n",
              "      border-color: transparent;\n",
              "      border-right-color: var(--fill-color);\n",
              "      border-bottom-color: var(--fill-color);\n",
              "    }\n",
              "    90% {\n",
              "      border-color: transparent;\n",
              "      border-bottom-color: var(--fill-color);\n",
              "    }\n",
              "  }\n",
              "</style>\n",
              "\n",
              "  <script>\n",
              "    async function quickchart(key) {\n",
              "      const quickchartButtonEl =\n",
              "        document.querySelector('#' + key + ' button');\n",
              "      quickchartButtonEl.disabled = true;  // To prevent multiple clicks.\n",
              "      quickchartButtonEl.classList.add('colab-df-spinner');\n",
              "      try {\n",
              "        const charts = await google.colab.kernel.invokeFunction(\n",
              "            'suggestCharts', [key], {});\n",
              "      } catch (error) {\n",
              "        console.error('Error during call to suggestCharts:', error);\n",
              "      }\n",
              "      quickchartButtonEl.classList.remove('colab-df-spinner');\n",
              "      quickchartButtonEl.classList.add('colab-df-quickchart-complete');\n",
              "    }\n",
              "    (() => {\n",
              "      let quickchartButtonEl =\n",
              "        document.querySelector('#df-211d87e9-5cdc-4f27-9e6b-7c4cf258bb96 button');\n",
              "      quickchartButtonEl.style.display =\n",
              "        google.colab.kernel.accessAllowed ? 'block' : 'none';\n",
              "    })();\n",
              "  </script>\n",
              "</div>\n",
              "\n",
              "  <div id=\"id_053d17f2-4238-452b-9e22-d1e0f4cf843b\">\n",
              "    <style>\n",
              "      .colab-df-generate {\n",
              "        background-color: #E8F0FE;\n",
              "        border: none;\n",
              "        border-radius: 50%;\n",
              "        cursor: pointer;\n",
              "        display: none;\n",
              "        fill: #1967D2;\n",
              "        height: 32px;\n",
              "        padding: 0 0 0 0;\n",
              "        width: 32px;\n",
              "      }\n",
              "\n",
              "      .colab-df-generate:hover {\n",
              "        background-color: #E2EBFA;\n",
              "        box-shadow: 0px 1px 2px rgba(60, 64, 67, 0.3), 0px 1px 3px 1px rgba(60, 64, 67, 0.15);\n",
              "        fill: #174EA6;\n",
              "      }\n",
              "\n",
              "      [theme=dark] .colab-df-generate {\n",
              "        background-color: #3B4455;\n",
              "        fill: #D2E3FC;\n",
              "      }\n",
              "\n",
              "      [theme=dark] .colab-df-generate:hover {\n",
              "        background-color: #434B5C;\n",
              "        box-shadow: 0px 1px 3px 1px rgba(0, 0, 0, 0.15);\n",
              "        filter: drop-shadow(0px 1px 2px rgba(0, 0, 0, 0.3));\n",
              "        fill: #FFFFFF;\n",
              "      }\n",
              "    </style>\n",
              "    <button class=\"colab-df-generate\" onclick=\"generateWithVariable('df')\"\n",
              "            title=\"Generate code using this dataframe.\"\n",
              "            style=\"display:none;\">\n",
              "\n",
              "  <svg xmlns=\"http://www.w3.org/2000/svg\" height=\"24px\"viewBox=\"0 0 24 24\"\n",
              "       width=\"24px\">\n",
              "    <path d=\"M7,19H8.4L18.45,9,17,7.55,7,17.6ZM5,21V16.75L18.45,3.32a2,2,0,0,1,2.83,0l1.4,1.43a1.91,1.91,0,0,1,.58,1.4,1.91,1.91,0,0,1-.58,1.4L9.25,21ZM18.45,9,17,7.55Zm-12,3A5.31,5.31,0,0,0,4.9,8.1,5.31,5.31,0,0,0,1,6.5,5.31,5.31,0,0,0,4.9,4.9,5.31,5.31,0,0,0,6.5,1,5.31,5.31,0,0,0,8.1,4.9,5.31,5.31,0,0,0,12,6.5,5.46,5.46,0,0,0,6.5,12Z\"/>\n",
              "  </svg>\n",
              "    </button>\n",
              "    <script>\n",
              "      (() => {\n",
              "      const buttonEl =\n",
              "        document.querySelector('#id_053d17f2-4238-452b-9e22-d1e0f4cf843b button.colab-df-generate');\n",
              "      buttonEl.style.display =\n",
              "        google.colab.kernel.accessAllowed ? 'block' : 'none';\n",
              "\n",
              "      buttonEl.onclick = () => {\n",
              "        google.colab.notebook.generateWithVariable('df');\n",
              "      }\n",
              "      })();\n",
              "    </script>\n",
              "  </div>\n",
              "\n",
              "    </div>\n",
              "  </div>\n"
            ],
            "application/vnd.google.colaboratory.intrinsic+json": {
              "type": "dataframe",
              "variable_name": "df",
              "summary": "{\n  \"name\": \"df\",\n  \"rows\": 20,\n  \"fields\": [\n    {\n      \"column\": \"a\",\n      \"properties\": {\n        \"dtype\": \"number\",\n        \"std\": 0.32646359507278744,\n        \"min\": 1.0079814625715464,\n        \"max\": 1.9957651560863403,\n        \"num_unique_values\": 20,\n        \"samples\": [\n          1.6534902705793448,\n          1.1158535226374053,\n          1.625694279309028\n        ],\n        \"semantic_type\": \"\",\n        \"description\": \"\"\n      }\n    },\n    {\n      \"column\": \"b\",\n      \"properties\": {\n        \"dtype\": \"number\",\n        \"std\": 0.28087006103487844,\n        \"min\": 1.0059026705187668,\n        \"max\": 1.9721734015653523,\n        \"num_unique_values\": 20,\n        \"samples\": [\n          1.2632142155698765,\n          1.4990001901088508,\n          1.8267728451044798\n        ],\n        \"semantic_type\": \"\",\n        \"description\": \"\"\n      }\n    },\n    {\n      \"column\": \"c\",\n      \"properties\": {\n        \"dtype\": \"number\",\n        \"std\": 0.2927519510969363,\n        \"min\": 1.120559688787545,\n        \"max\": 1.969595221347983,\n        \"num_unique_values\": 20,\n        \"samples\": [\n          1.6972956021967067,\n          1.1399823881087814,\n          1.131554228286666\n        ],\n        \"semantic_type\": \"\",\n        \"description\": \"\"\n      }\n    },\n    {\n      \"column\": \"d\",\n      \"properties\": {\n        \"dtype\": \"number\",\n        \"std\": 0.3193244093885065,\n        \"min\": 1.0135391047620321,\n        \"max\": 1.98508069673116,\n        \"num_unique_values\": 20,\n        \"samples\": [\n          1.80470036941005,\n          1.443099063711443,\n          1.0135391047620321\n        ],\n        \"semantic_type\": \"\",\n        \"description\": \"\"\n      }\n    },\n    {\n      \"column\": \"e\",\n      \"properties\": {\n        \"dtype\": \"number\",\n        \"std\": 0.3440375247965633,\n        \"min\": 1.0011019131484342,\n        \"max\": 1.940465421378792,\n        \"num_unique_values\": 20,\n        \"samples\": [\n          1.7047388428953858,\n          1.8487655886312755,\n          1.0084733571701627\n        ],\n        \"semantic_type\": \"\",\n        \"description\": \"\"\n      }\n    }\n  ]\n}"
            }
          },
          "metadata": {}
        },
        {
          "output_type": "stream",
          "name": "stdout",
          "text": [
            "column: e row: 15\n"
          ]
        }
      ]
    },
    {
      "cell_type": "markdown",
      "source": [
        "##11. Add a new column to the dataframe called “f” which is the sum of the columns “a”, “b”, “c”, “d”, “e”. Create another column called “g”. The value in the column “g” should be “LT8” if the value in the column “f” is less than 8 and “GT8” otherwise. Find the number of rows in the dataframe where the value in the column “g” is “LT8”. Find the standard deviation of the column “f” for the rows where the value in the column “g” is “LT8” and “GT8” respectively."
      ],
      "metadata": {
        "id": "MHFEALEHmdPY"
      }
    },
    {
      "cell_type": "code",
      "source": [
        "df['f'] = df['a'] +df['b'] +df['c'] + df['d'] +df['e'] # adding all the columns\n",
        "df['g'] = np.where(df['f']<8, 'LT8', 'GT8') # applying condition\n",
        "\n",
        "rows = (df[df[\"g\"]==\"LT8\"]).shape[0]\n",
        "print(\"num of rows:\",rows)\n",
        "\n",
        "lt8 = df[df['g']=='LT8']['f'].std()\n",
        "gt8 = df[df['g']=='GT8']['f'].std()\n",
        "print(\"lt8\",lt8,\"gt8\",gt8)"
      ],
      "metadata": {
        "colab": {
          "base_uri": "https://localhost:8080/"
        },
        "id": "Ov649sYIme4w",
        "outputId": "51f714fe-21b2-47f4-8832-1823c8cdd4a9"
      },
      "execution_count": 16,
      "outputs": [
        {
          "output_type": "stream",
          "name": "stdout",
          "text": [
            "num of rows: 16\n",
            "lt8 0.3707777570787829 gt8 0.3198557579357611\n"
          ]
        }
      ]
    },
    {
      "cell_type": "markdown",
      "source": [
        "##12. Write a small piece of code to explain broadcasting in numpy."
      ],
      "metadata": {
        "id": "PeqUc6y8mfy6"
      }
    },
    {
      "cell_type": "code",
      "source": [
        "a = np.array([[1.0,2.0,3.0],[3.0, 4.0, 5.0]])\n",
        "b = np.array([2.0])\n",
        "print(a * b) # gets applied to the entire matrix\n",
        "\n",
        "a = np.array([[1.0,2.0,3.0],[3.0, 4.0, 5.0]])\n",
        "b = np.array([2.0,1.0,1.0])\n",
        "print(a * b)"
      ],
      "metadata": {
        "colab": {
          "base_uri": "https://localhost:8080/"
        },
        "id": "WBX1UjGWmfim",
        "outputId": "45188adf-2b74-453b-86c2-f73d114be699"
      },
      "execution_count": 17,
      "outputs": [
        {
          "output_type": "stream",
          "name": "stdout",
          "text": [
            "[[ 2.  4.  6.]\n",
            " [ 6.  8. 10.]]\n",
            "[[2. 2. 3.]\n",
            " [6. 4. 5.]]\n"
          ]
        }
      ]
    },
    {
      "cell_type": "markdown",
      "source": [
        "##13. Write a function to compute the argmin of a numpy array. The function should take a numpy array as input and return the index of the minimum element. You can use the np.argmin function to verify your solution."
      ],
      "metadata": {
        "id": "bbghFhYgmktL"
      }
    },
    {
      "cell_type": "code",
      "source": [
        "import numpy as np\n",
        "\n",
        "arr = np.random.rand(10)\n",
        "\n",
        "print(arr, \"\\n\",\"Minimum at index :\",np.argmin(arr))"
      ],
      "metadata": {
        "colab": {
          "base_uri": "https://localhost:8080/"
        },
        "id": "2qcsZ0NxmqL7",
        "outputId": "862a82e2-b0ed-439f-8f1a-cb1bf3d5a0c6"
      },
      "execution_count": 18,
      "outputs": [
        {
          "output_type": "stream",
          "name": "stdout",
          "text": [
            "[0.88024401 0.67987183 0.48582032 0.73152933 0.50829179 0.08176678\n",
            " 0.51483688 0.83769934 0.72699953 0.5021735 ] \n",
            " Minimum at index : 5\n"
          ]
        }
      ]
    },
    {
      "cell_type": "markdown",
      "source": [
        "##References:\n",
        "\n",
        "1.https://www.quora.com/What-is-the-difference-between-Numpy-and-regular-Python-Why-is-Numpy-faster<br>\n",
        "2.https://stackoverflow.com/questions/50899486/why-does-numpy-median-scale-so-well<br>\n",
        "3.https://jax.readthedocs.io/en/latest/notebooks/autodiff_cookbook.html<br>\n",
        "4.https://jax.readthedocs.io/en/latest/jax.numpy.html<br>\n",
        "5.https://docs.sympy.org/latest/tutorials/intro-tutorial/calculus.html<br>\n",
        "6.https://www.w3schools.com/python/python_classes.asp<br>\n",
        "7.https://numpy.org/doc/stable/user/basics.broadcasting.html"
      ],
      "metadata": {
        "id": "tuoUMCA28ZAx"
      }
    }
  ]
}